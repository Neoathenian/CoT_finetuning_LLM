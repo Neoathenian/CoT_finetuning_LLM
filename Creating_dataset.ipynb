{
 "cells": [
  {
   "cell_type": "markdown",
   "metadata": {},
   "source": [
    "# Creating Dataset for bot that thinks"
   ]
  },
  {
   "cell_type": "markdown",
   "metadata": {},
   "source": [
    "### First we´ll load some libraries and load the LLM (which takes 15min) and connect it to the rest of the code via LLM_connection"
   ]
  },
  {
   "cell_type": "code",
   "execution_count": 9,
   "metadata": {},
   "outputs": [],
   "source": [
    "import torch\n",
    "from trl import SFTTrainer\n",
    "import os\n",
    "from datasets import load_dataset\n",
    "from transformers import TrainingArguments, TextStreamer\n",
    "from unsloth.chat_templates import get_chat_template\n",
    "from unsloth import FastLanguageModel, is_bfloat16_supported\n",
    "import time\n",
    "import json\n",
    "\n",
    "from src.Basic_LLM_functions import LLM_conection\n",
    "from src.Dataset_generation import generate_full_question,save_question_and_log,subtopic_prompt_template,question_prompt_template\n",
    "from src.Chain_of_thought import Chain_of_thought"
   ]
  },
  {
   "cell_type": "code",
   "execution_count": 2,
   "metadata": {},
   "outputs": [
    {
     "name": "stdout",
     "output_type": "stream",
     "text": [
      "==((====))==  Unsloth 2024.8: Fast Llama patching. Transformers = 4.44.2.\n",
      "   \\\\   /|    GPU: NVIDIA GeForce RTX 3090. Max memory: 24.0 GB. Platform = Linux.\n",
      "O^O/ \\_/ \\    Pytorch: 2.4.1. CUDA = 8.6. CUDA Toolkit = 12.1.\n",
      "\\        /    Bfloat16 = TRUE. FA [Xformers = 0.0.28.post1. FA2 = False]\n",
      " \"-____-\"     Free Apache license: http://github.com/unslothai/unsloth\n"
     ]
    },
    {
     "data": {
      "application/vnd.jupyter.widget-view+json": {
       "model_id": "d50e9dafd29544e29c87509b48f4f87d",
       "version_major": 2,
       "version_minor": 0
      },
      "text/plain": [
       "Loading checkpoint shards:   0%|          | 0/4 [00:00<?, ?it/s]"
      ]
     },
     "metadata": {},
     "output_type": "display_data"
    },
    {
     "name": "stderr",
     "output_type": "stream",
     "text": [
      "LLMs/Meta-Llama-3.1-8B does not have a padding token! Will use pad_token = <|finetune_right_pad_id|>.\n"
     ]
    }
   ],
   "source": [
    "max_seq_length = 2048\n",
    "model, tokenizer = FastLanguageModel.from_pretrained(\n",
    "    model_name=\"LLMs/Meta-Llama-3.1-8B\",#-bnb-4bit\",\n",
    "    max_seq_length=max_seq_length,\n",
    "    load_in_4bit=True,\n",
    "    dtype=None,\n",
    ")"
   ]
  },
  {
   "cell_type": "code",
   "execution_count": 3,
   "metadata": {},
   "outputs": [
    {
     "name": "stderr",
     "output_type": "stream",
     "text": [
      "Unsloth: Will map <|im_end|> to EOS = <|eot_id|>.\n",
      "/home/jaime/miniconda3/envs/llama_finetuning_env/lib/python3.11/site-packages/transformers/tokenization_utils_base.py:1601: FutureWarning: `clean_up_tokenization_spaces` was not set. It will be set to `True` by default. This behavior will be depracted in transformers v4.45, and will be then set to `False` by default. For more details check this issue: https://github.com/huggingface/transformers/issues/31884\n",
      "  warnings.warn(\n"
     ]
    }
   ],
   "source": [
    "tokenizer = get_chat_template(\n",
    "    tokenizer,\n",
    "    mapping={\"role\": \"from\", \"content\": \"value\", \"user\": \"human\", \"assistant\": \"gpt\"},\n",
    "    chat_template=\"chatml\",\n",
    ")\n",
    "\n",
    "model = FastLanguageModel.for_inference(model)"
   ]
  },
  {
   "cell_type": "code",
   "execution_count": 4,
   "metadata": {},
   "outputs": [],
   "source": [
    "#We set up the LLM connection and we can finally start doing stuff\n",
    "LLM_conection.set_model(model,tokenizer)"
   ]
  },
  {
   "cell_type": "markdown",
   "metadata": {},
   "source": [
    "### Let´s create the questions"
   ]
  },
  {
   "cell_type": "code",
   "execution_count": 5,
   "metadata": {},
   "outputs": [
    {
     "name": "stdout",
     "output_type": "stream",
     "text": [
      "Generating question 1/1\n",
      "Main Topic: Mathematics\n",
      "Subtopic: Considering the implications of fractal geometry on chaos theory in complex systems.\n",
      "Question: What are the theoretical and practical implications of applying fractal geometry to model the emergence of chaotic behavior in complex systems, particularly in the context of the Mandelbrot set and the Lorenz attractor, and how do these insights inform our understanding of the interplay between determinism and randomness in these systems, considering the work of pioneers such as Benoit Mandelbrot and Edward Lorenz, and the potential applications of these findings in fields like meteorology and finance?\n",
      "\n",
      "---\n",
      "\n",
      "Question generation complete. Check the 'questions' and 'log' folders for output.\n"
     ]
    }
   ],
   "source": [
    "num_questions = 1  # Change this to the number of questions you want to generate\n",
    "\n",
    "for i in range(num_questions):\n",
    "    print(f\"Generating question {i+1}/{num_questions}\")\n",
    "    question_data = generate_full_question(model,tokenizer)\n",
    "    save_question_and_log(question_data, subtopic_prompt_template, question_prompt_template)\n",
    "    print(f\"Main Topic: {question_data['main_topic']}\")\n",
    "    print(f\"Subtopic: {question_data['subtopic']}\")\n",
    "    print(f\"Question: {question_data['question']}\")\n",
    "    print(\"\\n---\\n\")\n",
    "    time.sleep(2)  # Add a delay to avoid hitting API rate limits\n",
    "\n",
    "print(\"Question generation complete. Check the 'questions' and 'log' folders for output.\")"
   ]
  },
  {
   "cell_type": "markdown",
   "metadata": {},
   "source": [
    "### Let´s create the answers via Chain of Thought"
   ]
  },
  {
   "cell_type": "code",
   "execution_count": 6,
   "metadata": {},
   "outputs": [],
   "source": [
    "os.makedirs(\"answers\", exist_ok=True)\n",
    "answered_questions=os.listdir(\"answers\")"
   ]
  },
  {
   "cell_type": "code",
   "execution_count": 7,
   "metadata": {},
   "outputs": [],
   "source": [
    "txt_files_contents = []\n",
    "folder_path=\"questions\"\n",
    "for filename in os.listdir(folder_path):\n",
    "    if filename in answered_questions:\n",
    "        continue\n",
    "    if filename.endswith(\".txt\"):\n",
    "        with open(os.path.join(folder_path, filename), 'r') as file:\n",
    "            txt_files_contents.append((filename,file.read()))"
   ]
  },
  {
   "cell_type": "code",
   "execution_count": 10,
   "metadata": {},
   "outputs": [
    {
     "name": "stdout",
     "output_type": "stream",
     "text": [
      "----------------------\n",
      "Attempt 1 for question: What are the key methodological adaptations required to apply the phenomenological analysis framework to the cultural significance of contemporary street art, and how can these adaptations be evaluated in terms of their effectiveness in uncovering the underlying themes and meanings that street artists intend to convey through their work?\n",
      "----------------------\n",
      "Additional information:\n",
      "To apply the phenomenological analysis framework to the cultural significance of contemporary street art, the following key methodological adaptations are required:\n",
      "\n",
      "1. **Participant selection and recruitment**: Identify a diverse group of participants who are familiar with street art, including artists, art critics, curators, and enthusiasts. Ensure that the sample is representative of the broader street art community, including both local and international perspectives.\n",
      "2. **Data collection methods**: Employ a combination of qualitative methods, such as:\n",
      "\t* **In-depth interviews**: Conduct semi-structured interviews with participants to gather detailed, personal accounts of their experiences and perceptions of street art.\n",
      "\t* **Focus groups**: Organize small-group discussions to facilitate the sharing of thoughts and opinions among participants.\n",
      "\t* **Content analysis**: Examine existing texts, images, and videos related to street art, such as artist statements, reviews, and online forums.\n",
      "\t* **Observational studies**: Attend street art events, festivals, and exhibitions to observe the artwork, artist interactions, and audience responses.\n",
      "3. **Data analysis procedures**: Employ phenomenological analysis techniques, such as:\n",
      "\t* **Bracketing**: Encourage participants to set aside their preconceptions and biases to reveal their authentic experiences and perceptions.\n",
      "\t* **Descriptive analysis**: Identify and describe the essential features of the data, including the meanings and themes that emerge from the participants' accounts.\n",
      "\t* **Interpretive analysis**: Interpret the themes and meanings in light of the participants' experiences and the broader cultural context.\n",
      "\t* **Member checking**: Validate the findings with participants to ensure that the interpretations accurately reflect their intended meanings.\n",
      "4. **Adaptation of phenomenological analysis to the street art context**: Modify the phenomenological analysis framework to accommodate the unique aspects of street art, such as:\n",
      "\t* **Considering the role of context**: Take into account the street art environment, including the urban landscape, social and cultural contexts, and the artists' intentions.\n",
      "\t* **Accounting for the dynamic nature of street art**: Recognize that street art is often ephemeral, and its meanings can shift over time due to changing social, cultural, and economic conditions.\n",
      "\t* **Integrating multiple perspectives**: Incorporate the views of multiple stakeholders, including artists, curators, critics, and enthusiasts, to provide a comprehensive understanding of the cultural significance of street art.\n",
      "5. **Evaluation of methodological adaptations**: Assess the effectiveness of these adaptations by:\n",
      "\t* **Comparing the findings with existing research**: Examine how the adapted phenomenological analysis framework aligns with or diverges from existing studies on street art.\n",
      "\t* **Assessing the validity and reliability of the findings**: Evaluate the extent to which the adapted framework captures the intended meanings and themes of street art, and the consistency of the findings across different participants and data collection methods.\n",
      "\t* **Refining the adapted framework**: Continuously refine the adapted framework based on the evaluation results to ensure that it effectively uncovers the underlying themes and meanings of street art.\n",
      "\n",
      "By employing these methodological adaptations, researchers can effectively apply the phenomenological analysis framework to the cultural significance of contemporary street art, providing a deeper understanding of the underlying themes and meanings that street artists intend to convey through their work.\n",
      "----------------------\n",
      "Simplified reasoning steps:\n",
      "1. 1 To answer the question, we need to consider the key methodological adaptations required to apply the phenomenological analysis framework to the cultural significance of contemporary street art.\n",
      "2. 2 The provided information highlights the importance of adapting the phenomenological analysis framework to accommodate the unique aspects of street art.\n",
      "3. 3 The key methodological adaptations include participant selection and recruitment, data collection methods, data analysis procedures, adaptation of phenomenological analysis to the street art context, and evaluation of methodological adaptations.\n",
      "4. 4 Participant selection and recruitment involve identifying a diverse group of participants who are familiar with street art.\n",
      "5. 5 Data collection methods include a combination of qualitative methods, such as in-depth interviews, focus groups, content analysis, and observational studies.\n",
      "6. 6 Data analysis procedures involve employing phenomenological analysis techniques, such as bracketing, descriptive analysis, interpretive analysis, and member checking.\n",
      "7. 7 Adaptation of phenomenological analysis to the street art context involves modifying the phenomenological analysis framework to accommodate the unique aspects of street art.\n",
      "8. 8 Evaluation of methodological adaptations involves assessing the effectiveness of these adaptations by comparing the findings with existing research, assessing the validity and reliability of the findings, and refining the adapted framework.\n",
      "9. 9 Therefore, the answer is: **5**.\n",
      "----------------------\n",
      "Question answered with verified reasoning.\n",
      "Answer: The key methodological adaptations required to apply the phenomenological analysis framework to the cultural significance of contemporary street art include participant selection and recruitment, data collection methods, data analysis procedures, adaptation of phenomenological analysis to the street art context, and evaluation of methodological adaptations.\n"
     ]
    }
   ],
   "source": [
    "dataset=[]\n",
    "for filename,question in txt_files_contents:\n",
    "    output=Chain_of_thought(question)\n",
    "    \n",
    "    if len(output[\"reasoning\"])>0:\n",
    "        #Save the json to .json in a folder called answers\n",
    "        with open(f\"answers/{filename}.json\", 'w') as f:\n",
    "            json.dump(output, f, indent=4)\n",
    "    \n",
    "    break#We only wanna do 1 chain of thought for now"
   ]
  },
  {
   "cell_type": "code",
   "execution_count": null,
   "metadata": {},
   "outputs": [],
   "source": []
  },
  {
   "cell_type": "code",
   "execution_count": null,
   "metadata": {},
   "outputs": [],
   "source": []
  },
  {
   "cell_type": "code",
   "execution_count": 44,
   "metadata": {},
   "outputs": [],
   "source": []
  }
 ],
 "metadata": {
  "kernelspec": {
   "display_name": "llama3_1_env",
   "language": "python",
   "name": "python3"
  },
  "language_info": {
   "codemirror_mode": {
    "name": "ipython",
    "version": 3
   },
   "file_extension": ".py",
   "mimetype": "text/x-python",
   "name": "python",
   "nbconvert_exporter": "python",
   "pygments_lexer": "ipython3",
   "version": "3.11.9"
  }
 },
 "nbformat": 4,
 "nbformat_minor": 2
}
